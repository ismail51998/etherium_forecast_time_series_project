{
 "cells": [
  {
   "cell_type": "code",
   "execution_count": 1,
   "metadata": {
    "colab": {
     "base_uri": "https://localhost:8080/"
    },
    "id": "KfA4OmE4eYHe",
    "outputId": "3ffc9e2c-ce87-4500-a99a-9663d3b56053"
   },
   "outputs": [
    {
     "name": "stdout",
     "output_type": "stream",
     "text": [
      "Mounted at /content/drive\n"
     ]
    }
   ],
   "source": [
    "from google.colab import drive\n",
    "drive.mount('/content/drive')"
   ]
  },
  {
   "cell_type": "code",
   "execution_count": 2,
   "metadata": {
    "colab": {
     "base_uri": "https://localhost:8080/"
    },
    "id": "PYpXK-SpjaP8",
    "outputId": "60daf5b4-e67a-4d3e-8b92-f7787f5553b6"
   },
   "outputs": [
    {
     "name": "stderr",
     "output_type": "stream",
     "text": [
      "/usr/local/lib/python3.7/dist-packages/statsmodels/tools/_testing.py:19: FutureWarning: pandas.util.testing is deprecated. Use the functions in the public API at pandas.testing instead.\n",
      "  import pandas.util.testing as tm\n"
     ]
    }
   ],
   "source": [
    "import pandas as pd\n",
    "from datetime import datetime\n",
    "import numpy as np\n",
    "from statsmodels.tsa.seasonal import seasonal_decompose\n",
    "import matplotlib.pyplot as plt\n",
    "from statsmodels.graphics.tsaplots import plot_acf\n",
    "from statsmodels.graphics.tsaplots import plot_pacf\n",
    "from statsmodels.tsa.stattools import adfuller\n",
    "from numpy import log"
   ]
  },
  {
   "cell_type": "code",
   "execution_count": 3,
   "metadata": {
    "id": "KVowwzJSh01L"
   },
   "outputs": [],
   "source": [
    "df1=pd.read_csv(\"/content/drive/MyDrive/data_set_etherium/full_data__6__2017.csv\")\n",
    "df2=pd.read_csv(\"/content/drive/MyDrive/data_set_etherium/full_data__6__2018.csv\")\n",
    "df3=pd.read_csv(\"/content/drive/MyDrive/data_set_etherium/full_data__6__2019.csv\")\n",
    "df4=pd.read_csv(\"/content/drive/MyDrive/data_set_etherium/full_data__6__2020.csv\")\n",
    "df5=pd.read_csv(\"/content/drive/MyDrive/data_set_etherium/full_data__6__2021.csv\")"
   ]
  },
  {
   "cell_type": "code",
   "execution_count": 48,
   "metadata": {
    "id": "obd1zAv8jzt9"
   },
   "outputs": [],
   "source": [
    "DF=pd.concat([df1,df2,df3,df4,df5])"
   ]
  },
  {
   "cell_type": "markdown",
   "metadata": {
    "id": "L4gP0qZjnDEX"
   },
   "source": [
    "#### **<span>Dataset Structure</span>** \n",
    "> 1.  timestamp - A timestamp for the minute covered by the row.\n",
    "> 2.  Asset_ID - An ID code for the cryptoasset.\n",
    "> 3.  Count - The number of trades that took place this minute.\n",
    "> 4.  Open - The USD price at the beginning of the minute.\n",
    "> 5.  High - The highest USD price during the minute.\n",
    "> 6.  Low - The lowest USD price during the minute.\n",
    "> 7.  Close - The USD price at the end of the minute.\n",
    "> 8.  Volume - The number of cryptoasset u units traded during the minute.\n",
    "> 9.  VWAP - The volume-weighted average price for the minute.\n",
    "> 10. Target - 15 minute residualized returns. "
   ]
  },
  {
   "cell_type": "code",
   "execution_count": 49,
   "metadata": {
    "colab": {
     "base_uri": "https://localhost:8080/",
     "height": 206
    },
    "id": "8quRgFd9kJsP",
    "outputId": "e382ddfb-a3f4-4e2c-cd85-85b5f58335b0"
   },
   "outputs": [
    {
     "data": {
      "text/html": [
       "\n",
       "  <div id=\"df-54f1577f-4096-4e2f-9943-68cd6a82668b\">\n",
       "    <div class=\"colab-df-container\">\n",
       "      <div>\n",
       "<style scoped>\n",
       "    .dataframe tbody tr th:only-of-type {\n",
       "        vertical-align: middle;\n",
       "    }\n",
       "\n",
       "    .dataframe tbody tr th {\n",
       "        vertical-align: top;\n",
       "    }\n",
       "\n",
       "    .dataframe thead th {\n",
       "        text-align: right;\n",
       "    }\n",
       "</style>\n",
       "<table border=\"1\" class=\"dataframe\">\n",
       "  <thead>\n",
       "    <tr style=\"text-align: right;\">\n",
       "      <th></th>\n",
       "      <th>Unnamed: 0</th>\n",
       "      <th>timestamp</th>\n",
       "      <th>Asset_ID</th>\n",
       "      <th>Asset_Name</th>\n",
       "      <th>Weight</th>\n",
       "      <th>Count</th>\n",
       "      <th>Open</th>\n",
       "      <th>High</th>\n",
       "      <th>Low</th>\n",
       "      <th>Close</th>\n",
       "      <th>Volume</th>\n",
       "      <th>VWAP</th>\n",
       "      <th>Target</th>\n",
       "    </tr>\n",
       "  </thead>\n",
       "  <tbody>\n",
       "    <tr>\n",
       "      <th>0</th>\n",
       "      <td>9178560</td>\n",
       "      <td>1509667200</td>\n",
       "      <td>6</td>\n",
       "      <td>NaN</td>\n",
       "      <td>NaN</td>\n",
       "      <td>14.0</td>\n",
       "      <td>283.12</td>\n",
       "      <td>283.65</td>\n",
       "      <td>283.11</td>\n",
       "      <td>283.65</td>\n",
       "      <td>16.08390</td>\n",
       "      <td>661.31</td>\n",
       "      <td>0.003767</td>\n",
       "    </tr>\n",
       "    <tr>\n",
       "      <th>1</th>\n",
       "      <td>9178561</td>\n",
       "      <td>1509667260</td>\n",
       "      <td>6</td>\n",
       "      <td>NaN</td>\n",
       "      <td>NaN</td>\n",
       "      <td>18.0</td>\n",
       "      <td>283.65</td>\n",
       "      <td>283.65</td>\n",
       "      <td>283.65</td>\n",
       "      <td>283.65</td>\n",
       "      <td>19.43202</td>\n",
       "      <td>661.85</td>\n",
       "      <td>0.003795</td>\n",
       "    </tr>\n",
       "    <tr>\n",
       "      <th>2</th>\n",
       "      <td>9178562</td>\n",
       "      <td>1509667320</td>\n",
       "      <td>6</td>\n",
       "      <td>NaN</td>\n",
       "      <td>NaN</td>\n",
       "      <td>0.0</td>\n",
       "      <td>283.65</td>\n",
       "      <td>283.65</td>\n",
       "      <td>283.65</td>\n",
       "      <td>283.65</td>\n",
       "      <td>0.00000</td>\n",
       "      <td>NaN</td>\n",
       "      <td>0.005200</td>\n",
       "    </tr>\n",
       "    <tr>\n",
       "      <th>3</th>\n",
       "      <td>9178563</td>\n",
       "      <td>1509667380</td>\n",
       "      <td>6</td>\n",
       "      <td>NaN</td>\n",
       "      <td>NaN</td>\n",
       "      <td>0.0</td>\n",
       "      <td>283.65</td>\n",
       "      <td>283.65</td>\n",
       "      <td>283.65</td>\n",
       "      <td>283.65</td>\n",
       "      <td>0.00000</td>\n",
       "      <td>NaN</td>\n",
       "      <td>0.006833</td>\n",
       "    </tr>\n",
       "    <tr>\n",
       "      <th>4</th>\n",
       "      <td>9178564</td>\n",
       "      <td>1509667440</td>\n",
       "      <td>6</td>\n",
       "      <td>NaN</td>\n",
       "      <td>NaN</td>\n",
       "      <td>1.0</td>\n",
       "      <td>283.65</td>\n",
       "      <td>283.65</td>\n",
       "      <td>283.65</td>\n",
       "      <td>283.65</td>\n",
       "      <td>1.00000</td>\n",
       "      <td>661.85</td>\n",
       "      <td>0.007138</td>\n",
       "    </tr>\n",
       "  </tbody>\n",
       "</table>\n",
       "</div>\n",
       "      <button class=\"colab-df-convert\" onclick=\"convertToInteractive('df-54f1577f-4096-4e2f-9943-68cd6a82668b')\"\n",
       "              title=\"Convert this dataframe to an interactive table.\"\n",
       "              style=\"display:none;\">\n",
       "        \n",
       "  <svg xmlns=\"http://www.w3.org/2000/svg\" height=\"24px\"viewBox=\"0 0 24 24\"\n",
       "       width=\"24px\">\n",
       "    <path d=\"M0 0h24v24H0V0z\" fill=\"none\"/>\n",
       "    <path d=\"M18.56 5.44l.94 2.06.94-2.06 2.06-.94-2.06-.94-.94-2.06-.94 2.06-2.06.94zm-11 1L8.5 8.5l.94-2.06 2.06-.94-2.06-.94L8.5 2.5l-.94 2.06-2.06.94zm10 10l.94 2.06.94-2.06 2.06-.94-2.06-.94-.94-2.06-.94 2.06-2.06.94z\"/><path d=\"M17.41 7.96l-1.37-1.37c-.4-.4-.92-.59-1.43-.59-.52 0-1.04.2-1.43.59L10.3 9.45l-7.72 7.72c-.78.78-.78 2.05 0 2.83L4 21.41c.39.39.9.59 1.41.59.51 0 1.02-.2 1.41-.59l7.78-7.78 2.81-2.81c.8-.78.8-2.07 0-2.86zM5.41 20L4 18.59l7.72-7.72 1.47 1.35L5.41 20z\"/>\n",
       "  </svg>\n",
       "      </button>\n",
       "      \n",
       "  <style>\n",
       "    .colab-df-container {\n",
       "      display:flex;\n",
       "      flex-wrap:wrap;\n",
       "      gap: 12px;\n",
       "    }\n",
       "\n",
       "    .colab-df-convert {\n",
       "      background-color: #E8F0FE;\n",
       "      border: none;\n",
       "      border-radius: 50%;\n",
       "      cursor: pointer;\n",
       "      display: none;\n",
       "      fill: #1967D2;\n",
       "      height: 32px;\n",
       "      padding: 0 0 0 0;\n",
       "      width: 32px;\n",
       "    }\n",
       "\n",
       "    .colab-df-convert:hover {\n",
       "      background-color: #E2EBFA;\n",
       "      box-shadow: 0px 1px 2px rgba(60, 64, 67, 0.3), 0px 1px 3px 1px rgba(60, 64, 67, 0.15);\n",
       "      fill: #174EA6;\n",
       "    }\n",
       "\n",
       "    [theme=dark] .colab-df-convert {\n",
       "      background-color: #3B4455;\n",
       "      fill: #D2E3FC;\n",
       "    }\n",
       "\n",
       "    [theme=dark] .colab-df-convert:hover {\n",
       "      background-color: #434B5C;\n",
       "      box-shadow: 0px 1px 3px 1px rgba(0, 0, 0, 0.15);\n",
       "      filter: drop-shadow(0px 1px 2px rgba(0, 0, 0, 0.3));\n",
       "      fill: #FFFFFF;\n",
       "    }\n",
       "  </style>\n",
       "\n",
       "      <script>\n",
       "        const buttonEl =\n",
       "          document.querySelector('#df-54f1577f-4096-4e2f-9943-68cd6a82668b button.colab-df-convert');\n",
       "        buttonEl.style.display =\n",
       "          google.colab.kernel.accessAllowed ? 'block' : 'none';\n",
       "\n",
       "        async function convertToInteractive(key) {\n",
       "          const element = document.querySelector('#df-54f1577f-4096-4e2f-9943-68cd6a82668b');\n",
       "          const dataTable =\n",
       "            await google.colab.kernel.invokeFunction('convertToInteractive',\n",
       "                                                     [key], {});\n",
       "          if (!dataTable) return;\n",
       "\n",
       "          const docLinkHtml = 'Like what you see? Visit the ' +\n",
       "            '<a target=\"_blank\" href=https://colab.research.google.com/notebooks/data_table.ipynb>data table notebook</a>'\n",
       "            + ' to learn more about interactive tables.';\n",
       "          element.innerHTML = '';\n",
       "          dataTable['output_type'] = 'display_data';\n",
       "          await google.colab.output.renderOutput(dataTable, element);\n",
       "          const docLink = document.createElement('div');\n",
       "          docLink.innerHTML = docLinkHtml;\n",
       "          element.appendChild(docLink);\n",
       "        }\n",
       "      </script>\n",
       "    </div>\n",
       "  </div>\n",
       "  "
      ],
      "text/plain": [
       "   Unnamed: 0   timestamp  Asset_ID  ...    Volume    VWAP    Target\n",
       "0     9178560  1509667200         6  ...  16.08390  661.31  0.003767\n",
       "1     9178561  1509667260         6  ...  19.43202  661.85  0.003795\n",
       "2     9178562  1509667320         6  ...   0.00000     NaN  0.005200\n",
       "3     9178563  1509667380         6  ...   0.00000     NaN  0.006833\n",
       "4     9178564  1509667440         6  ...   1.00000  661.85  0.007138\n",
       "\n",
       "[5 rows x 13 columns]"
      ]
     },
     "execution_count": 49,
     "metadata": {},
     "output_type": "execute_result"
    }
   ],
   "source": [
    "DF.head()"
   ]
  },
  {
   "cell_type": "markdown",
   "metadata": {
    "id": "l7s__Qnzn9g2"
   },
   "source": [
    "## Data Preprocessing\n"
   ]
  },
  {
   "cell_type": "markdown",
   "metadata": {
    "id": "4wWADYP652UV"
   },
   "source": [
    "### 1- Index dataFrame using DateTime converted Timestamp\n",
    "\n"
   ]
  },
  {
   "cell_type": "code",
   "execution_count": 50,
   "metadata": {
    "id": "IqhaxQbHny8u"
   },
   "outputs": [],
   "source": [
    "DF.index=DF.timestamp.apply(lambda x:datetime.fromtimestamp(x))"
   ]
  },
  {
   "cell_type": "markdown",
   "metadata": {
    "id": "TTxAuYbH6Uy8"
   },
   "source": [
    "### 2- Drop Irrelevant Columns"
   ]
  },
  {
   "cell_type": "code",
   "execution_count": 51,
   "metadata": {
    "id": "gfv3dDvenB4E"
   },
   "outputs": [],
   "source": [
    "DF.drop([\"timestamp\",\"Asset_ID\",\"Asset_Name\",\"Weight\",\"Unnamed: 0\",\"Target\"],axis=1,inplace=True)"
   ]
  },
  {
   "cell_type": "markdown",
   "metadata": {
    "id": "-IFq2VVPygCm"
   },
   "source": [
    "### 3- Resample Data"
   ]
  },
  {
   "cell_type": "markdown",
   "metadata": {
    "id": "iAEjHYzrIVo3"
   },
   "source": [
    "Due to large dataset, "
   ]
  },
  {
   "cell_type": "code",
   "execution_count": 101,
   "metadata": {
    "colab": {
     "base_uri": "https://localhost:8080/",
     "height": 301
    },
    "id": "ebD-uuzV6xcl",
    "outputId": "8d82c753-8f14-4c02-a536-78db81004d13"
   },
   "outputs": [
    {
     "data": {
      "text/html": [
       "\n",
       "  <div id=\"df-56b06c05-e16c-40ae-ae7b-d2b4e374682d\">\n",
       "    <div class=\"colab-df-container\">\n",
       "      <div>\n",
       "<style scoped>\n",
       "    .dataframe tbody tr th:only-of-type {\n",
       "        vertical-align: middle;\n",
       "    }\n",
       "\n",
       "    .dataframe tbody tr th {\n",
       "        vertical-align: top;\n",
       "    }\n",
       "\n",
       "    .dataframe thead th {\n",
       "        text-align: right;\n",
       "    }\n",
       "</style>\n",
       "<table border=\"1\" class=\"dataframe\">\n",
       "  <thead>\n",
       "    <tr style=\"text-align: right;\">\n",
       "      <th></th>\n",
       "      <th>Count</th>\n",
       "      <th>Open</th>\n",
       "      <th>High</th>\n",
       "      <th>Low</th>\n",
       "      <th>Close</th>\n",
       "      <th>Volume</th>\n",
       "      <th>VWAP</th>\n",
       "    </tr>\n",
       "  </thead>\n",
       "  <tbody>\n",
       "    <tr>\n",
       "      <th>count</th>\n",
       "      <td>2.230499e+06</td>\n",
       "      <td>2.230499e+06</td>\n",
       "      <td>2.230499e+06</td>\n",
       "      <td>2.230499e+06</td>\n",
       "      <td>2.230499e+06</td>\n",
       "      <td>2.230499e+06</td>\n",
       "      <td>2.198866e+06</td>\n",
       "    </tr>\n",
       "    <tr>\n",
       "      <th>mean</th>\n",
       "      <td>6.410408e+02</td>\n",
       "      <td>8.183031e+02</td>\n",
       "      <td>8.200619e+02</td>\n",
       "      <td>8.166761e+02</td>\n",
       "      <td>8.183035e+02</td>\n",
       "      <td>1.011812e+03</td>\n",
       "      <td>1.089205e+03</td>\n",
       "    </tr>\n",
       "    <tr>\n",
       "      <th>std</th>\n",
       "      <td>1.181647e+03</td>\n",
       "      <td>1.064239e+03</td>\n",
       "      <td>1.065273e+03</td>\n",
       "      <td>1.063116e+03</td>\n",
       "      <td>1.064241e+03</td>\n",
       "      <td>1.956440e+03</td>\n",
       "      <td>1.938444e+03</td>\n",
       "    </tr>\n",
       "    <tr>\n",
       "      <th>min</th>\n",
       "      <td>0.000000e+00</td>\n",
       "      <td>8.178300e+01</td>\n",
       "      <td>8.265000e+01</td>\n",
       "      <td>8.056000e+01</td>\n",
       "      <td>8.176683e+01</td>\n",
       "      <td>0.000000e+00</td>\n",
       "      <td>8.177974e+01</td>\n",
       "    </tr>\n",
       "    <tr>\n",
       "      <th>25%</th>\n",
       "      <td>1.350000e+02</td>\n",
       "      <td>1.908033e+02</td>\n",
       "      <td>1.912400e+02</td>\n",
       "      <td>1.904400e+02</td>\n",
       "      <td>1.908069e+02</td>\n",
       "      <td>2.012555e+02</td>\n",
       "      <td>1.896237e+02</td>\n",
       "    </tr>\n",
       "    <tr>\n",
       "      <th>50%</th>\n",
       "      <td>2.700000e+02</td>\n",
       "      <td>3.118100e+02</td>\n",
       "      <td>3.123300e+02</td>\n",
       "      <td>3.111700e+02</td>\n",
       "      <td>3.118129e+02</td>\n",
       "      <td>4.851199e+02</td>\n",
       "      <td>3.759260e+02</td>\n",
       "    </tr>\n",
       "    <tr>\n",
       "      <th>75%</th>\n",
       "      <td>6.710000e+02</td>\n",
       "      <td>8.204730e+02</td>\n",
       "      <td>8.238000e+02</td>\n",
       "      <td>8.170450e+02</td>\n",
       "      <td>8.204617e+02</td>\n",
       "      <td>1.082215e+03</td>\n",
       "      <td>9.455851e+02</td>\n",
       "    </tr>\n",
       "    <tr>\n",
       "      <th>max</th>\n",
       "      <td>6.625300e+04</td>\n",
       "      <td>4.865220e+03</td>\n",
       "      <td>4.868000e+03</td>\n",
       "      <td>4.861380e+03</td>\n",
       "      <td>4.865220e+03</td>\n",
       "      <td>1.120268e+05</td>\n",
       "      <td>1.134689e+04</td>\n",
       "    </tr>\n",
       "  </tbody>\n",
       "</table>\n",
       "</div>\n",
       "      <button class=\"colab-df-convert\" onclick=\"convertToInteractive('df-56b06c05-e16c-40ae-ae7b-d2b4e374682d')\"\n",
       "              title=\"Convert this dataframe to an interactive table.\"\n",
       "              style=\"display:none;\">\n",
       "        \n",
       "  <svg xmlns=\"http://www.w3.org/2000/svg\" height=\"24px\"viewBox=\"0 0 24 24\"\n",
       "       width=\"24px\">\n",
       "    <path d=\"M0 0h24v24H0V0z\" fill=\"none\"/>\n",
       "    <path d=\"M18.56 5.44l.94 2.06.94-2.06 2.06-.94-2.06-.94-.94-2.06-.94 2.06-2.06.94zm-11 1L8.5 8.5l.94-2.06 2.06-.94-2.06-.94L8.5 2.5l-.94 2.06-2.06.94zm10 10l.94 2.06.94-2.06 2.06-.94-2.06-.94-.94-2.06-.94 2.06-2.06.94z\"/><path d=\"M17.41 7.96l-1.37-1.37c-.4-.4-.92-.59-1.43-.59-.52 0-1.04.2-1.43.59L10.3 9.45l-7.72 7.72c-.78.78-.78 2.05 0 2.83L4 21.41c.39.39.9.59 1.41.59.51 0 1.02-.2 1.41-.59l7.78-7.78 2.81-2.81c.8-.78.8-2.07 0-2.86zM5.41 20L4 18.59l7.72-7.72 1.47 1.35L5.41 20z\"/>\n",
       "  </svg>\n",
       "      </button>\n",
       "      \n",
       "  <style>\n",
       "    .colab-df-container {\n",
       "      display:flex;\n",
       "      flex-wrap:wrap;\n",
       "      gap: 12px;\n",
       "    }\n",
       "\n",
       "    .colab-df-convert {\n",
       "      background-color: #E8F0FE;\n",
       "      border: none;\n",
       "      border-radius: 50%;\n",
       "      cursor: pointer;\n",
       "      display: none;\n",
       "      fill: #1967D2;\n",
       "      height: 32px;\n",
       "      padding: 0 0 0 0;\n",
       "      width: 32px;\n",
       "    }\n",
       "\n",
       "    .colab-df-convert:hover {\n",
       "      background-color: #E2EBFA;\n",
       "      box-shadow: 0px 1px 2px rgba(60, 64, 67, 0.3), 0px 1px 3px 1px rgba(60, 64, 67, 0.15);\n",
       "      fill: #174EA6;\n",
       "    }\n",
       "\n",
       "    [theme=dark] .colab-df-convert {\n",
       "      background-color: #3B4455;\n",
       "      fill: #D2E3FC;\n",
       "    }\n",
       "\n",
       "    [theme=dark] .colab-df-convert:hover {\n",
       "      background-color: #434B5C;\n",
       "      box-shadow: 0px 1px 3px 1px rgba(0, 0, 0, 0.15);\n",
       "      filter: drop-shadow(0px 1px 2px rgba(0, 0, 0, 0.3));\n",
       "      fill: #FFFFFF;\n",
       "    }\n",
       "  </style>\n",
       "\n",
       "      <script>\n",
       "        const buttonEl =\n",
       "          document.querySelector('#df-56b06c05-e16c-40ae-ae7b-d2b4e374682d button.colab-df-convert');\n",
       "        buttonEl.style.display =\n",
       "          google.colab.kernel.accessAllowed ? 'block' : 'none';\n",
       "\n",
       "        async function convertToInteractive(key) {\n",
       "          const element = document.querySelector('#df-56b06c05-e16c-40ae-ae7b-d2b4e374682d');\n",
       "          const dataTable =\n",
       "            await google.colab.kernel.invokeFunction('convertToInteractive',\n",
       "                                                     [key], {});\n",
       "          if (!dataTable) return;\n",
       "\n",
       "          const docLinkHtml = 'Like what you see? Visit the ' +\n",
       "            '<a target=\"_blank\" href=https://colab.research.google.com/notebooks/data_table.ipynb>data table notebook</a>'\n",
       "            + ' to learn more about interactive tables.';\n",
       "          element.innerHTML = '';\n",
       "          dataTable['output_type'] = 'display_data';\n",
       "          await google.colab.output.renderOutput(dataTable, element);\n",
       "          const docLink = document.createElement('div');\n",
       "          docLink.innerHTML = docLinkHtml;\n",
       "          element.appendChild(docLink);\n",
       "        }\n",
       "      </script>\n",
       "    </div>\n",
       "  </div>\n",
       "  "
      ],
      "text/plain": [
       "              Count          Open  ...        Volume          VWAP\n",
       "count  2.230499e+06  2.230499e+06  ...  2.230499e+06  2.198866e+06\n",
       "mean   6.410408e+02  8.183031e+02  ...  1.011812e+03  1.089205e+03\n",
       "std    1.181647e+03  1.064239e+03  ...  1.956440e+03  1.938444e+03\n",
       "min    0.000000e+00  8.178300e+01  ...  0.000000e+00  8.177974e+01\n",
       "25%    1.350000e+02  1.908033e+02  ...  2.012555e+02  1.896237e+02\n",
       "50%    2.700000e+02  3.118100e+02  ...  4.851199e+02  3.759260e+02\n",
       "75%    6.710000e+02  8.204730e+02  ...  1.082215e+03  9.455851e+02\n",
       "max    6.625300e+04  4.865220e+03  ...  1.120268e+05  1.134689e+04\n",
       "\n",
       "[8 rows x 7 columns]"
      ]
     },
     "execution_count": 101,
     "metadata": {},
     "output_type": "execute_result"
    }
   ],
   "source": [
    "DF.describe()"
   ]
  },
  {
   "cell_type": "markdown",
   "metadata": {
    "id": "ZmlG31SH7zmk"
   },
   "source": [
    "based on **Hours**"
   ]
  },
  {
   "cell_type": "code",
   "execution_count": 53,
   "metadata": {
    "id": "of9nlgpej2dN"
   },
   "outputs": [],
   "source": [
    "DF_hourly =DF.resample('60min', label='right').mean()"
   ]
  },
  {
   "cell_type": "markdown",
   "metadata": {
    "id": "wDakDSAa8x2D"
   },
   "source": [
    "### 4- Check Null Values"
   ]
  },
  {
   "cell_type": "code",
   "execution_count": 54,
   "metadata": {
    "colab": {
     "base_uri": "https://localhost:8080/"
    },
    "id": "DOK4Q2mij3_D",
    "outputId": "12c4f6c2-6307-46f9-db8e-88d561c3885d"
   },
   "outputs": [
    {
     "data": {
      "text/plain": [
       "Count     329\n",
       "Open      329\n",
       "High      329\n",
       "Low       329\n",
       "Close     329\n",
       "Volume    329\n",
       "VWAP      331\n",
       "dtype: int64"
      ]
     },
     "execution_count": 54,
     "metadata": {},
     "output_type": "execute_result"
    }
   ],
   "source": [
    "DF_hourly.isnull().sum()"
   ]
  },
  {
   "cell_type": "markdown",
   "metadata": {
    "id": "NCqn2gwn9AhZ"
   },
   "source": [
    "## 5- Fill NaN values using an interpolation method"
   ]
  },
  {
   "cell_type": "code",
   "execution_count": 55,
   "metadata": {
    "id": "jB3haowMN9pp"
   },
   "outputs": [],
   "source": [
    "DF_hourly=DF_hourly.interpolate(limit_direction=\"forward\") "
   ]
  },
  {
   "cell_type": "code",
   "execution_count": 56,
   "metadata": {
    "colab": {
     "base_uri": "https://localhost:8080/"
    },
    "id": "LBjqt4889Xzh",
    "outputId": "917f861a-dd84-49a5-8553-8a1e6082bf7d"
   },
   "outputs": [
    {
     "data": {
      "text/plain": [
       "Count     0\n",
       "Open      0\n",
       "High      0\n",
       "Low       0\n",
       "Close     0\n",
       "Volume    0\n",
       "VWAP      0\n",
       "dtype: int64"
      ]
     },
     "execution_count": 56,
     "metadata": {},
     "output_type": "execute_result"
    }
   ],
   "source": [
    "DF_hourly.isnull().sum()"
   ]
  },
  {
   "cell_type": "markdown",
   "metadata": {
    "id": "lG51sQga9dga"
   },
   "source": [
    "## 6- Plot the multivariate time serie"
   ]
  },
  {
   "cell_type": "code",
   "execution_count": 57,
   "metadata": {
    "colab": {
     "base_uri": "https://localhost:8080/",
     "height": 351
    },
    "id": "4CKpvH7mrgcF",
    "outputId": "016aeb26-7393-4bbc-a81a-8f0d4398cec8"
   },
   "outputs": [
    {
     "data": {
      "text/plain": [
       "<matplotlib.axes._subplots.AxesSubplot at 0x7f663810f9d0>"
      ]
     },
     "execution_count": 57,
     "metadata": {},
     "output_type": "execute_result"
    },
    {
     "data": {
      "image/png": "[encoded data removed]",
      "text/plain": [
       "<Figure size 1080x360 with 1 Axes>"
      ]
     },
     "metadata": {
      "needs_background": "light"
     },
     "output_type": "display_data"
    }
   ],
   "source": [
    "DF_hourly[['High','Low','Open','Close']].plot(figsize = (15, 5), alpha = 0.5)\n"
   ]
  },
  {
   "cell_type": "markdown",
   "metadata": {
    "id": "6xZrBAWLQEBS"
   },
   "source": [
    "### The four variables have almost the same behaviour troughout time and based on this assumption in this project we will only use on one of them  in order to build a model that will  predict future values (close)"
   ]
  },
  {
   "cell_type": "markdown",
   "metadata": {
    "id": "KTUata2JPtIN"
   },
   "source": [
    "### The plot shows also that there is no important information to use before 2020, due to that we will **just** use the data from 2020"
   ]
  },
  {
   "cell_type": "markdown",
   "metadata": {
    "id": "hr3GxsHDP67Q"
   },
   "source": [
    "# hourly"
   ]
  },
  {
   "cell_type": "code",
   "execution_count": 58,
   "metadata": {
    "id": "ZYXlb0Gm1vS5"
   },
   "outputs": [],
   "source": [
    "DF_hourly= DF_hourly.loc[\"2020\":]"
   ]
  },
  {
   "cell_type": "markdown",
   "metadata": {
    "id": "YZuxGD59p4Nm"
   },
   "source": [
    "## 2- Check *Stationarity*"
   ]
  },
  {
   "cell_type": "code",
   "execution_count": 59,
   "metadata": {
    "colab": {
     "base_uri": "https://localhost:8080/",
     "height": 282
    },
    "id": "CpAY71_PR82j",
    "outputId": "67907046-57a0-43e2-fc1b-8ec55b88cdfb"
   },
   "outputs": [
    {
     "data": {
      "text/plain": [
       "<matplotlib.axes._subplots.AxesSubplot at 0x7f66383bfc10>"
      ]
     },
     "execution_count": 59,
     "metadata": {},
     "output_type": "execute_result"
    },
    {
     "data": {
      "image/png": "[encoded data removed]",
      "text/plain": [
       "<Figure size 432x288 with 1 Axes>"
      ]
     },
     "metadata": {
      "needs_background": "light"
     },
     "output_type": "display_data"
    }
   ],
   "source": [
    "DF_hourly.High.hist(bins=50)"
   ]
  },
  {
   "cell_type": "markdown",
   "metadata": {
    "id": "N5C6IVloF9iG"
   },
   "source": [
    "## Check Mean and Variance"
   ]
  },
  {
   "cell_type": "markdown",
   "metadata": {
    "id": "ned5KNFW2GYI"
   },
   "source": [
    "In order to check stationarity, we can start by looking at the mean and the standard deviation of the time serie.\n",
    "We will split the original timeserie to 10 timeseries and check the Mean and STD"
   ]
  },
  {
   "cell_type": "code",
   "execution_count": 60,
   "metadata": {
    "id": "ZwAIoQBr-kPR"
   },
   "outputs": [],
   "source": [
    "from statistics import stdev\n",
    "\n",
    "def check_stats(df):\n",
    "  split = int(np.round(df.shape[0]/10,0))\n",
    "  mean=[]\n",
    "  std=[]\n",
    "  for i in range(10):\n",
    "      mean.append(df['Close'].iloc[(i*split):(i*split)+split].mean())\n",
    "      std.append(stdev(df['Close'].iloc[(i*split):(i*split)+split]))\n",
    "  return pd.concat([pd.DataFrame(mean,columns=['mean']),pd.DataFrame(std,columns=['std'])], axis=1)"
   ]
  },
  {
   "cell_type": "code",
   "execution_count": 61,
   "metadata": {
    "colab": {
     "base_uri": "https://localhost:8080/",
     "height": 363
    },
    "id": "bDPRv15QP_UU",
    "outputId": "4b47ecea-2f53-47cb-9655-683e04a0b700"
   },
   "outputs": [
    {
     "data": {
      "text/html": [
       "\n",
       "  <div id=\"df-85edac4f-faaa-45df-b94f-85cc41ca0217\">\n",
       "    <div class=\"colab-df-container\">\n",
       "      <div>\n",
       "<style scoped>\n",
       "    .dataframe tbody tr th:only-of-type {\n",
       "        vertical-align: middle;\n",
       "    }\n",
       "\n",
       "    .dataframe tbody tr th {\n",
       "        vertical-align: top;\n",
       "    }\n",
       "\n",
       "    .dataframe thead th {\n",
       "        text-align: right;\n",
       "    }\n",
       "</style>\n",
       "<table border=\"1\" class=\"dataframe\">\n",
       "  <thead>\n",
       "    <tr style=\"text-align: right;\">\n",
       "      <th></th>\n",
       "      <th>mean</th>\n",
       "      <th>std</th>\n",
       "    </tr>\n",
       "  </thead>\n",
       "  <tbody>\n",
       "    <tr>\n",
       "      <th>0</th>\n",
       "      <td>199.130955</td>\n",
       "      <td>45.756778</td>\n",
       "    </tr>\n",
       "    <tr>\n",
       "      <th>1</th>\n",
       "      <td>167.916543</td>\n",
       "      <td>31.725421</td>\n",
       "    </tr>\n",
       "    <tr>\n",
       "      <th>2</th>\n",
       "      <td>235.221731</td>\n",
       "      <td>19.803684</td>\n",
       "    </tr>\n",
       "    <tr>\n",
       "      <th>3</th>\n",
       "      <td>378.831286</td>\n",
       "      <td>32.442724</td>\n",
       "    </tr>\n",
       "    <tr>\n",
       "      <th>4</th>\n",
       "      <td>460.898000</td>\n",
       "      <td>85.852848</td>\n",
       "    </tr>\n",
       "    <tr>\n",
       "      <th>5</th>\n",
       "      <td>1207.125758</td>\n",
       "      <td>429.206711</td>\n",
       "    </tr>\n",
       "    <tr>\n",
       "      <th>6</th>\n",
       "      <td>1963.226158</td>\n",
       "      <td>353.142072</td>\n",
       "    </tr>\n",
       "    <tr>\n",
       "      <th>7</th>\n",
       "      <td>2670.998959</td>\n",
       "      <td>624.618674</td>\n",
       "    </tr>\n",
       "    <tr>\n",
       "      <th>8</th>\n",
       "      <td>2894.733801</td>\n",
       "      <td>618.193574</td>\n",
       "    </tr>\n",
       "    <tr>\n",
       "      <th>9</th>\n",
       "      <td>3900.955070</td>\n",
       "      <td>569.212420</td>\n",
       "    </tr>\n",
       "  </tbody>\n",
       "</table>\n",
       "</div>\n",
       "      <button class=\"colab-df-convert\" onclick=\"convertToInteractive('df-85edac4f-faaa-45df-b94f-85cc41ca0217')\"\n",
       "              title=\"Convert this dataframe to an interactive table.\"\n",
       "              style=\"display:none;\">\n",
       "        \n",
       "  <svg xmlns=\"http://www.w3.org/2000/svg\" height=\"24px\"viewBox=\"0 0 24 24\"\n",
       "       width=\"24px\">\n",
       "    <path d=\"M0 0h24v24H0V0z\" fill=\"none\"/>\n",
       "    <path d=\"M18.56 5.44l.94 2.06.94-2.06 2.06-.94-2.06-.94-.94-2.06-.94 2.06-2.06.94zm-11 1L8.5 8.5l.94-2.06 2.06-.94-2.06-.94L8.5 2.5l-.94 2.06-2.06.94zm10 10l.94 2.06.94-2.06 2.06-.94-2.06-.94-.94-2.06-.94 2.06-2.06.94z\"/><path d=\"M17.41 7.96l-1.37-1.37c-.4-.4-.92-.59-1.43-.59-.52 0-1.04.2-1.43.59L10.3 9.45l-7.72 7.72c-.78.78-.78 2.05 0 2.83L4 21.41c.39.39.9.59 1.41.59.51 0 1.02-.2 1.41-.59l7.78-7.78 2.81-2.81c.8-.78.8-2.07 0-2.86zM5.41 20L4 18.59l7.72-7.72 1.47 1.35L5.41 20z\"/>\n",
       "  </svg>\n",
       "      </button>\n",
       "      \n",
       "  <style>\n",
       "    .colab-df-container {\n",
       "      display:flex;\n",
       "      flex-wrap:wrap;\n",
       "      gap: 12px;\n",
       "    }\n",
       "\n",
       "    .colab-df-convert {\n",
       "      background-color: #E8F0FE;\n",
       "      border: none;\n",
       "      border-radius: 50%;\n",
       "      cursor: pointer;\n",
       "      display: none;\n",
       "      fill: #1967D2;\n",
       "      height: 32px;\n",
       "      padding: 0 0 0 0;\n",
       "      width: 32px;\n",
       "    }\n",
       "\n",
       "    .colab-df-convert:hover {\n",
       "      background-color: #E2EBFA;\n",
       "      box-shadow: 0px 1px 2px rgba(60, 64, 67, 0.3), 0px 1px 3px 1px rgba(60, 64, 67, 0.15);\n",
       "      fill: #174EA6;\n",
       "    }\n",
       "\n",
       "    [theme=dark] .colab-df-convert {\n",
       "      background-color: #3B4455;\n",
       "      fill: #D2E3FC;\n",
       "    }\n",
       "\n",
       "    [theme=dark] .colab-df-convert:hover {\n",
       "      background-color: #434B5C;\n",
       "      box-shadow: 0px 1px 3px 1px rgba(0, 0, 0, 0.15);\n",
       "      filter: drop-shadow(0px 1px 2px rgba(0, 0, 0, 0.3));\n",
       "      fill: #FFFFFF;\n",
       "    }\n",
       "  </style>\n",
       "\n",
       "      <script>\n",
       "        const buttonEl =\n",
       "          document.querySelector('#df-85edac4f-faaa-45df-b94f-85cc41ca0217 button.colab-df-convert');\n",
       "        buttonEl.style.display =\n",
       "          google.colab.kernel.accessAllowed ? 'block' : 'none';\n",
       "\n",
       "        async function convertToInteractive(key) {\n",
       "          const element = document.querySelector('#df-85edac4f-faaa-45df-b94f-85cc41ca0217');\n",
       "          const dataTable =\n",
       "            await google.colab.kernel.invokeFunction('convertToInteractive',\n",
       "                                                     [key], {});\n",
       "          if (!dataTable) return;\n",
       "\n",
       "          const docLinkHtml = 'Like what you see? Visit the ' +\n",
       "            '<a target=\"_blank\" href=https://colab.research.google.com/notebooks/data_table.ipynb>data table notebook</a>'\n",
       "            + ' to learn more about interactive tables.';\n",
       "          element.innerHTML = '';\n",
       "          dataTable['output_type'] = 'display_data';\n",
       "          await google.colab.output.renderOutput(dataTable, element);\n",
       "          const docLink = document.createElement('div');\n",
       "          docLink.innerHTML = docLinkHtml;\n",
       "          element.appendChild(docLink);\n",
       "        }\n",
       "      </script>\n",
       "    </div>\n",
       "  </div>\n",
       "  "
      ],
      "text/plain": [
       "          mean         std\n",
       "0   199.130955   45.756778\n",
       "1   167.916543   31.725421\n",
       "2   235.221731   19.803684\n",
       "3   378.831286   32.442724\n",
       "4   460.898000   85.852848\n",
       "5  1207.125758  429.206711\n",
       "6  1963.226158  353.142072\n",
       "7  2670.998959  624.618674\n",
       "8  2894.733801  618.193574\n",
       "9  3900.955070  569.212420"
      ]
     },
     "execution_count": 61,
     "metadata": {},
     "output_type": "execute_result"
    }
   ],
   "source": [
    "check_stats(DF_hourly)"
   ]
  },
  {
   "cell_type": "markdown",
   "metadata": {
    "id": "RKOBN_V7Gocv"
   },
   "source": [
    "Measures are clearly different in each chunk now we can assume it's a not stationary serie.\n"
   ]
  },
  {
   "cell_type": "markdown",
   "metadata": {
    "id": "_nGJ5aT-GBWl"
   },
   "source": [
    "## Dickey-Fuller Test"
   ]
  },
  {
   "cell_type": "markdown",
   "metadata": {
    "id": "TsVGM6yroqK3"
   },
   "source": [
    " we will make the Augmented Dickey-Fuller test, using 5% as significance level and declaring the following hypothesis:\n",
    "\n",
    "H0= Serie corresponds to non-stationary type.\n",
    "H1= Serie corresponds to stationary type."
   ]
  },
  {
   "cell_type": "code",
   "execution_count": 62,
   "metadata": {
    "id": "QGTdaHgYorVc"
   },
   "outputs": [],
   "source": [
    "def dickey_fuller(df):\n",
    "  result = adfuller(df)\n",
    "  print('ADF Statistic: %f' % result[0])\n",
    "  print('p-value: %f' % result[1])\n",
    "  print('Critical Values:')\n",
    "  for key, value in result[4].items():\n",
    "      print('\\t%s: %.3f' % (key, value))"
   ]
  },
  {
   "cell_type": "code",
   "execution_count": 63,
   "metadata": {
    "colab": {
     "base_uri": "https://localhost:8080/"
    },
    "id": "CdthdorfP64A",
    "outputId": "e639b5c8-d51d-462b-eacf-b0345cfe0130"
   },
   "outputs": [
    {
     "name": "stdout",
     "output_type": "stream",
     "text": [
      "ADF Statistic: -0.062395\n",
      "p-value: 0.953058\n",
      "Critical Values:\n",
      "\t1%: -3.431\n",
      "\t5%: -2.862\n",
      "\t10%: -2.567\n"
     ]
    }
   ],
   "source": [
    "dickey_fuller(DF_hourly['Close'])"
   ]
  },
  {
   "cell_type": "markdown",
   "metadata": {
    "id": "sIdxRM21o8Eb"
   },
   "source": [
    "As p-value is greater than 0.05 we can't  reject the null hypothesis, therefore there is not enough evidence to reject that we are working with a non-stationary series. Let's apply the log transformation to the serie and test again."
   ]
  },
  {
   "cell_type": "code",
   "execution_count": 64,
   "metadata": {
    "colab": {
     "base_uri": "https://localhost:8080/"
    },
    "id": "vgXOFSGupwMc",
    "outputId": "751aa96b-b3db-497d-e401-a19aa7181c70"
   },
   "outputs": [
    {
     "name": "stdout",
     "output_type": "stream",
     "text": [
      "ADF Statistic: -0.725715\n",
      "p-value: 0.839976\n",
      "Critical Values:\n",
      "\t1%: -3.431\n",
      "\t5%: -2.862\n",
      "\t10%: -2.567\n"
     ]
    }
   ],
   "source": [
    "dickey_fuller(log(DF_hourly['Close']))"
   ]
  },
  {
   "cell_type": "markdown",
   "metadata": {
    "id": "V2GFXFibn_CX"
   },
   "source": [
    "### It is clear that it is not a stationary time \n"
   ]
  },
  {
   "cell_type": "code",
   "execution_count": 65,
   "metadata": {
    "colab": {
     "base_uri": "https://localhost:8080/",
     "height": 455
    },
    "id": "19sfJt0fJYJu",
    "outputId": "c457097b-c018-477e-99b5-d3e336739626"
   },
   "outputs": [
    {
     "data": {
      "text/html": [
       "\n",
       "  <div id=\"df-1ce708f7-a36c-4fc4-82ef-4ff56f9e4de8\">\n",
       "    <div class=\"colab-df-container\">\n",
       "      <div>\n",
       "<style scoped>\n",
       "    .dataframe tbody tr th:only-of-type {\n",
       "        vertical-align: middle;\n",
       "    }\n",
       "\n",
       "    .dataframe tbody tr th {\n",
       "        vertical-align: top;\n",
       "    }\n",
       "\n",
       "    .dataframe thead th {\n",
       "        text-align: right;\n",
       "    }\n",
       "</style>\n",
       "<table border=\"1\" class=\"dataframe\">\n",
       "  <thead>\n",
       "    <tr style=\"text-align: right;\">\n",
       "      <th></th>\n",
       "      <th>Count</th>\n",
       "      <th>Open</th>\n",
       "      <th>High</th>\n",
       "      <th>Low</th>\n",
       "      <th>Close</th>\n",
       "      <th>Volume</th>\n",
       "      <th>VWAP</th>\n",
       "    </tr>\n",
       "    <tr>\n",
       "      <th>timestamp</th>\n",
       "      <th></th>\n",
       "      <th></th>\n",
       "      <th></th>\n",
       "      <th></th>\n",
       "      <th></th>\n",
       "      <th></th>\n",
       "      <th></th>\n",
       "    </tr>\n",
       "  </thead>\n",
       "  <tbody>\n",
       "    <tr>\n",
       "      <th>2020-01-01 00:00:00</th>\n",
       "      <td>113.533333</td>\n",
       "      <td>128.963485</td>\n",
       "      <td>129.290407</td>\n",
       "      <td>128.425667</td>\n",
       "      <td>128.962919</td>\n",
       "      <td>228.931752</td>\n",
       "      <td>128.963067</td>\n",
       "    </tr>\n",
       "    <tr>\n",
       "      <th>2020-01-01 01:00:00</th>\n",
       "      <td>112.796610</td>\n",
       "      <td>128.740371</td>\n",
       "      <td>129.064159</td>\n",
       "      <td>128.289153</td>\n",
       "      <td>128.738209</td>\n",
       "      <td>284.910154</td>\n",
       "      <td>128.740126</td>\n",
       "    </tr>\n",
       "    <tr>\n",
       "      <th>2020-01-01 02:00:00</th>\n",
       "      <td>219.100000</td>\n",
       "      <td>129.624342</td>\n",
       "      <td>130.000526</td>\n",
       "      <td>129.188167</td>\n",
       "      <td>129.647553</td>\n",
       "      <td>543.081950</td>\n",
       "      <td>129.638419</td>\n",
       "    </tr>\n",
       "    <tr>\n",
       "      <th>2020-01-01 03:00:00</th>\n",
       "      <td>140.466667</td>\n",
       "      <td>130.570633</td>\n",
       "      <td>130.916704</td>\n",
       "      <td>130.173167</td>\n",
       "      <td>130.576236</td>\n",
       "      <td>334.585177</td>\n",
       "      <td>130.574789</td>\n",
       "    </tr>\n",
       "    <tr>\n",
       "      <th>2020-01-01 04:00:00</th>\n",
       "      <td>149.783333</td>\n",
       "      <td>130.202711</td>\n",
       "      <td>130.499820</td>\n",
       "      <td>129.769333</td>\n",
       "      <td>130.193646</td>\n",
       "      <td>317.734746</td>\n",
       "      <td>130.196188</td>\n",
       "    </tr>\n",
       "    <tr>\n",
       "      <th>...</th>\n",
       "      <td>...</td>\n",
       "      <td>...</td>\n",
       "      <td>...</td>\n",
       "      <td>...</td>\n",
       "      <td>...</td>\n",
       "      <td>...</td>\n",
       "      <td>...</td>\n",
       "    </tr>\n",
       "    <tr>\n",
       "      <th>2021-11-26 20:00:00</th>\n",
       "      <td>459.816667</td>\n",
       "      <td>4074.282667</td>\n",
       "      <td>4077.211167</td>\n",
       "      <td>4071.676333</td>\n",
       "      <td>4074.907000</td>\n",
       "      <td>183.782577</td>\n",
       "      <td>9507.189833</td>\n",
       "    </tr>\n",
       "    <tr>\n",
       "      <th>2021-11-26 21:00:00</th>\n",
       "      <td>583.550000</td>\n",
       "      <td>4081.381333</td>\n",
       "      <td>4084.649167</td>\n",
       "      <td>4078.547333</td>\n",
       "      <td>4081.941333</td>\n",
       "      <td>199.531710</td>\n",
       "      <td>9523.843611</td>\n",
       "    </tr>\n",
       "    <tr>\n",
       "      <th>2021-11-26 22:00:00</th>\n",
       "      <td>586.416667</td>\n",
       "      <td>4103.430667</td>\n",
       "      <td>4106.409500</td>\n",
       "      <td>4099.812833</td>\n",
       "      <td>4102.572500</td>\n",
       "      <td>196.843068</td>\n",
       "      <td>9573.746500</td>\n",
       "    </tr>\n",
       "    <tr>\n",
       "      <th>2021-11-26 23:00:00</th>\n",
       "      <td>515.850000</td>\n",
       "      <td>4083.752167</td>\n",
       "      <td>4086.928833</td>\n",
       "      <td>4081.014000</td>\n",
       "      <td>4083.776167</td>\n",
       "      <td>200.368658</td>\n",
       "      <td>9529.201556</td>\n",
       "    </tr>\n",
       "    <tr>\n",
       "      <th>2021-11-27 00:00:00</th>\n",
       "      <td>636.318182</td>\n",
       "      <td>4067.102955</td>\n",
       "      <td>4071.215000</td>\n",
       "      <td>4063.303636</td>\n",
       "      <td>4066.439318</td>\n",
       "      <td>295.242732</td>\n",
       "      <td>9489.998409</td>\n",
       "    </tr>\n",
       "  </tbody>\n",
       "</table>\n",
       "<p>16705 rows × 7 columns</p>\n",
       "</div>\n",
       "      <button class=\"colab-df-convert\" onclick=\"convertToInteractive('df-1ce708f7-a36c-4fc4-82ef-4ff56f9e4de8')\"\n",
       "              title=\"Convert this dataframe to an interactive table.\"\n",
       "              style=\"display:none;\">\n",
       "        \n",
       "  <svg xmlns=\"http://www.w3.org/2000/svg\" height=\"24px\"viewBox=\"0 0 24 24\"\n",
       "       width=\"24px\">\n",
       "    <path d=\"M0 0h24v24H0V0z\" fill=\"none\"/>\n",
       "    <path d=\"M18.56 5.44l.94 2.06.94-2.06 2.06-.94-2.06-.94-.94-2.06-.94 2.06-2.06.94zm-11 1L8.5 8.5l.94-2.06 2.06-.94-2.06-.94L8.5 2.5l-.94 2.06-2.06.94zm10 10l.94 2.06.94-2.06 2.06-.94-2.06-.94-.94-2.06-.94 2.06-2.06.94z\"/><path d=\"M17.41 7.96l-1.37-1.37c-.4-.4-.92-.59-1.43-.59-.52 0-1.04.2-1.43.59L10.3 9.45l-7.72 7.72c-.78.78-.78 2.05 0 2.83L4 21.41c.39.39.9.59 1.41.59.51 0 1.02-.2 1.41-.59l7.78-7.78 2.81-2.81c.8-.78.8-2.07 0-2.86zM5.41 20L4 18.59l7.72-7.72 1.47 1.35L5.41 20z\"/>\n",
       "  </svg>\n",
       "      </button>\n",
       "      \n",
       "  <style>\n",
       "    .colab-df-container {\n",
       "      display:flex;\n",
       "      flex-wrap:wrap;\n",
       "      gap: 12px;\n",
       "    }\n",
       "\n",
       "    .colab-df-convert {\n",
       "      background-color: #E8F0FE;\n",
       "      border: none;\n",
       "      border-radius: 50%;\n",
       "      cursor: pointer;\n",
       "      display: none;\n",
       "      fill: #1967D2;\n",
       "      height: 32px;\n",
       "      padding: 0 0 0 0;\n",
       "      width: 32px;\n",
       "    }\n",
       "\n",
       "    .colab-df-convert:hover {\n",
       "      background-color: #E2EBFA;\n",
       "      box-shadow: 0px 1px 2px rgba(60, 64, 67, 0.3), 0px 1px 3px 1px rgba(60, 64, 67, 0.15);\n",
       "      fill: #174EA6;\n",
       "    }\n",
       "\n",
       "    [theme=dark] .colab-df-convert {\n",
       "      background-color: #3B4455;\n",
       "      fill: #D2E3FC;\n",
       "    }\n",
       "\n",
       "    [theme=dark] .colab-df-convert:hover {\n",
       "      background-color: #434B5C;\n",
       "      box-shadow: 0px 1px 3px 1px rgba(0, 0, 0, 0.15);\n",
       "      filter: drop-shadow(0px 1px 2px rgba(0, 0, 0, 0.3));\n",
       "      fill: #FFFFFF;\n",
       "    }\n",
       "  </style>\n",
       "\n",
       "      <script>\n",
       "        const buttonEl =\n",
       "          document.querySelector('#df-1ce708f7-a36c-4fc4-82ef-4ff56f9e4de8 button.colab-df-convert');\n",
       "        buttonEl.style.display =\n",
       "          google.colab.kernel.accessAllowed ? 'block' : 'none';\n",
       "\n",
       "        async function convertToInteractive(key) {\n",
       "          const element = document.querySelector('#df-1ce708f7-a36c-4fc4-82ef-4ff56f9e4de8');\n",
       "          const dataTable =\n",
       "            await google.colab.kernel.invokeFunction('convertToInteractive',\n",
       "                                                     [key], {});\n",
       "          if (!dataTable) return;\n",
       "\n",
       "          const docLinkHtml = 'Like what you see? Visit the ' +\n",
       "            '<a target=\"_blank\" href=https://colab.research.google.com/notebooks/data_table.ipynb>data table notebook</a>'\n",
       "            + ' to learn more about interactive tables.';\n",
       "          element.innerHTML = '';\n",
       "          dataTable['output_type'] = 'display_data';\n",
       "          await google.colab.output.renderOutput(dataTable, element);\n",
       "          const docLink = document.createElement('div');\n",
       "          docLink.innerHTML = docLinkHtml;\n",
       "          element.appendChild(docLink);\n",
       "        }\n",
       "      </script>\n",
       "    </div>\n",
       "  </div>\n",
       "  "
      ],
      "text/plain": [
       "                          Count         Open  ...      Volume         VWAP\n",
       "timestamp                                     ...                         \n",
       "2020-01-01 00:00:00  113.533333   128.963485  ...  228.931752   128.963067\n",
       "2020-01-01 01:00:00  112.796610   128.740371  ...  284.910154   128.740126\n",
       "2020-01-01 02:00:00  219.100000   129.624342  ...  543.081950   129.638419\n",
       "2020-01-01 03:00:00  140.466667   130.570633  ...  334.585177   130.574789\n",
       "2020-01-01 04:00:00  149.783333   130.202711  ...  317.734746   130.196188\n",
       "...                         ...          ...  ...         ...          ...\n",
       "2021-11-26 20:00:00  459.816667  4074.282667  ...  183.782577  9507.189833\n",
       "2021-11-26 21:00:00  583.550000  4081.381333  ...  199.531710  9523.843611\n",
       "2021-11-26 22:00:00  586.416667  4103.430667  ...  196.843068  9573.746500\n",
       "2021-11-26 23:00:00  515.850000  4083.752167  ...  200.368658  9529.201556\n",
       "2021-11-27 00:00:00  636.318182  4067.102955  ...  295.242732  9489.998409\n",
       "\n",
       "[16705 rows x 7 columns]"
      ]
     },
     "execution_count": 65,
     "metadata": {},
     "output_type": "execute_result"
    }
   ],
   "source": [
    "DF_hourly"
   ]
  },
  {
   "cell_type": "markdown",
   "metadata": {
    "id": "XfGrxMOJI2Yw"
   },
   "source": [
    "We can use all different approches to forcast starting by making the serie stationary and then apply AR models or using Machine or deep learning Techniques.\n",
    "For our example, we used LSTM in order to forecast."
   ]
  },
  {
   "cell_type": "code",
   "execution_count": 66,
   "metadata": {
    "id": "lMwlY_ccJiZV"
   },
   "outputs": [],
   "source": [
    "from sklearn.preprocessing import MinMaxScaler\n",
    "scaler = MinMaxScaler()\n",
    "scaled = scaler.fit_transform(DF_hourly) "
   ]
  },
  {
   "cell_type": "code",
   "execution_count": 68,
   "metadata": {
    "id": "IWBE3FITJ7tE"
   },
   "outputs": [],
   "source": [
    "DF_hourly = pd.DataFrame(scaled,columns=DF_hourly.columns, index=DF_hourly.index)"
   ]
  },
  {
   "cell_type": "markdown",
   "metadata": {
    "id": "1aotMbu9q6uo"
   },
   "source": [
    "## Model"
   ]
  },
  {
   "cell_type": "code",
   "execution_count": 70,
   "metadata": {
    "id": "25xM6jP9rnZC"
   },
   "outputs": [],
   "source": [
    "import math\n",
    "from keras.models import Sequential\n",
    "from keras.layers import Dense, LSTM, Dropout"
   ]
  },
  {
   "cell_type": "markdown",
   "metadata": {
    "id": "ypZfNdo1MxwK"
   },
   "source": [
    "## Prepare Train/Validation/Test Datasets"
   ]
  },
  {
   "cell_type": "markdown",
   "metadata": {
    "id": "YPd-mvo5rVGh"
   },
   "source": [
    "Firstly, we will define a new dataset equal to the existing one, but omitting the last 20 records, later we will use the model to predict such values."
   ]
  },
  {
   "cell_type": "code",
   "execution_count": 81,
   "metadata": {
    "id": "5FUuGn2OrWVw"
   },
   "outputs": [],
   "source": [
    "new_df_h=DF_hourly['Close'].iloc[:-20]\n"
   ]
  },
  {
   "cell_type": "markdown",
   "metadata": {
    "id": "72SIW5KeruvG"
   },
   "source": [
    "Create Training Dataset (80%) of the total records with a window of size 10"
   ]
  },
  {
   "cell_type": "code",
   "execution_count": 120,
   "metadata": {
    "id": "W64gXxXRrcPX"
   },
   "outputs": [],
   "source": [
    "window=10\n",
    "train_len = math.ceil(len(new_df_h)*0.8)\n",
    "train_data = new_df_h[0:train_len]\n",
    "\n",
    "def create_ds(train_data):\n",
    "  X_train=[]\n",
    "  Y_train=[]\n",
    "\n",
    "  for i in range(window, len(train_data)):\n",
    "      X_train.append(train_data[i-window:i])\n",
    "      Y_train.append(train_data[i])\n",
    "  X_train, Y_train= np.array(X_train), np.array(Y_train)\n",
    "  return X_train,Y_train"
   ]
  },
  {
   "cell_type": "code",
   "execution_count": 121,
   "metadata": {
    "colab": {
     "base_uri": "https://localhost:8080/"
    },
    "id": "KVKM32NnTNIG",
    "outputId": "5609612a-9a22-4429-d39e-236db4ed146e"
   },
   "outputs": [
    {
     "data": {
      "text/plain": [
       "timestamp\n",
       "2020-01-01 00:00:00    0.005241\n",
       "2020-01-01 01:00:00    0.005194\n",
       "2020-01-01 02:00:00    0.005386\n",
       "2020-01-01 03:00:00    0.005582\n",
       "2020-01-01 04:00:00    0.005501\n",
       "                         ...   \n",
       "2021-07-09 23:00:00    0.432942\n",
       "2021-07-10 00:00:00    0.432681\n",
       "2021-07-10 01:00:00    0.436074\n",
       "2021-07-10 02:00:00    0.433724\n",
       "2021-07-10 03:00:00    0.429601\n",
       "Freq: 60T, Name: Close, Length: 13348, dtype: float64"
      ]
     },
     "execution_count": 121,
     "metadata": {},
     "output_type": "execute_result"
    }
   ],
   "source": []
  },
  {
   "cell_type": "code",
   "execution_count": 93,
   "metadata": {
    "id": "Zqfco63XP0ao"
   },
   "outputs": [],
   "source": [
    "X_train, Y_train= create_ds(train_data)"
   ]
  },
  {
   "cell_type": "markdown",
   "metadata": {
    "id": "EgtitEi6NX9N"
   },
   "source": [
    "Create Validation Dataset (20%) of the total records "
   ]
  },
  {
   "cell_type": "code",
   "execution_count": 95,
   "metadata": {
    "id": "c2gkt8vaNh6x"
   },
   "outputs": [],
   "source": [
    "X_val, Y_val = create_ds(new_df_h[train_len-window:])"
   ]
  },
  {
   "cell_type": "markdown",
   "metadata": {
    "id": "1h9L1qGGsW0G"
   },
   "source": [
    "Our mode is simple with one LSTM layer with relu activation function and one hidden fully connected layer, the optimizer used is Adam, number of epochs=10, batch_size=10 and loss function=Mean squared error:"
   ]
  },
  {
   "cell_type": "code",
   "execution_count": 84,
   "metadata": {
    "colab": {
     "base_uri": "https://localhost:8080/"
    },
    "id": "pO2ha54frcSo",
    "outputId": "53b74f48-40bc-4d2f-c623-04d5a94cfc5e"
   },
   "outputs": [
    {
     "name": "stdout",
     "output_type": "stream",
     "text": [
      "Model: \"sequential_2\"\n",
      "_________________________________________________________________\n",
      " Layer (type)                Output Shape              Param #   \n",
      "=================================================================\n",
      " lstm_2 (LSTM)               (None, 50)                10400     \n",
      "                                                                 \n",
      " dense_4 (Dense)             (None, 25)                1275      \n",
      "                                                                 \n",
      " dense_5 (Dense)             (None, 1)                 26        \n",
      "                                                                 \n",
      "=================================================================\n",
      "Total params: 11,701\n",
      "Trainable params: 11,701\n",
      "Non-trainable params: 0\n",
      "_________________________________________________________________\n"
     ]
    },
    {
     "data": {
      "text/plain": [
       "<keras.callbacks.History at 0x7f662d62cf50>"
      ]
     },
     "execution_count": 84,
     "metadata": {},
     "output_type": "execute_result"
    }
   ],
   "source": [
    "model=Sequential()\n",
    "model.add(LSTM(50, activation='relu', input_shape=(X_train.shape[1],1)))\n",
    "model.add(Dense(25))\n",
    "model.add(Dense(1))\n",
    "model.compile(loss='mean_squared_error', optimizer='adam')\n",
    "model.summary()\n",
    "model.fit(X_train, Y_train, epochs=10, batch_size=10, verbose=0)"
   ]
  },
  {
   "cell_type": "markdown",
   "metadata": {
    "id": "5d3piNeZtOez"
   },
   "source": [
    "## Model Validation"
   ]
  },
  {
   "cell_type": "code",
   "execution_count": 85,
   "metadata": {
    "id": "2BOStKeXs90-"
   },
   "outputs": [],
   "source": [
    "prediction = model.predict(X_val)"
   ]
  },
  {
   "cell_type": "code",
   "execution_count": 86,
   "metadata": {
    "colab": {
     "base_uri": "https://localhost:8080/"
    },
    "id": "Yvxlfcb2tSy4",
    "outputId": "e99c96f4-2706-47a8-bd5b-c06ff8a71676"
   },
   "outputs": [
    {
     "name": "stdout",
     "output_type": "stream",
     "text": [
      "Train rmse: 0.006563642743297881\n",
      "Validation rmse: 0.005999475059640344\n"
     ]
    }
   ],
   "source": [
    "from sklearn.metrics import mean_squared_error\n",
    "\n",
    "lstm_train_pred = model.predict(X_train)\n",
    "lstm_valid_pred = model.predict(X_val)\n",
    "print('Train rmse:', np.sqrt(mean_squared_error(Y_train, lstm_train_pred)))\n",
    "print('Validation rmse:', np.sqrt(mean_squared_error(Y_val, lstm_valid_pred)))"
   ]
  },
  {
   "cell_type": "markdown",
   "metadata": {
    "id": "LY__e6GvtgWM"
   },
   "source": [
    "Both errors are low, our model can generalize well"
   ]
  },
  {
   "cell_type": "code",
   "execution_count": 87,
   "metadata": {
    "colab": {
     "base_uri": "https://localhost:8080/",
     "height": 455
    },
    "id": "zCwRjTLxtS3u",
    "outputId": "63c5d7d9-0bf8-4229-bc8e-a48944b89512"
   },
   "outputs": [
    {
     "data": {
      "text/html": [
       "\n",
       "  <div id=\"df-9388a804-2701-4242-a405-12427817d6de\">\n",
       "    <div class=\"colab-df-container\">\n",
       "      <div>\n",
       "<style scoped>\n",
       "    .dataframe tbody tr th:only-of-type {\n",
       "        vertical-align: middle;\n",
       "    }\n",
       "\n",
       "    .dataframe tbody tr th {\n",
       "        vertical-align: top;\n",
       "    }\n",
       "\n",
       "    .dataframe thead th {\n",
       "        text-align: right;\n",
       "    }\n",
       "</style>\n",
       "<table border=\"1\" class=\"dataframe\">\n",
       "  <thead>\n",
       "    <tr style=\"text-align: right;\">\n",
       "      <th></th>\n",
       "      <th>Close</th>\n",
       "      <th>Predictions</th>\n",
       "    </tr>\n",
       "    <tr>\n",
       "      <th>timestamp</th>\n",
       "      <th></th>\n",
       "      <th></th>\n",
       "    </tr>\n",
       "  </thead>\n",
       "  <tbody>\n",
       "    <tr>\n",
       "      <th>2021-07-10 04:00:00</th>\n",
       "      <td>0.428624</td>\n",
       "      <td>0.429236</td>\n",
       "    </tr>\n",
       "    <tr>\n",
       "      <th>2021-07-10 05:00:00</th>\n",
       "      <td>0.427061</td>\n",
       "      <td>0.427319</td>\n",
       "    </tr>\n",
       "    <tr>\n",
       "      <th>2021-07-10 06:00:00</th>\n",
       "      <td>0.423958</td>\n",
       "      <td>0.425470</td>\n",
       "    </tr>\n",
       "    <tr>\n",
       "      <th>2021-07-10 07:00:00</th>\n",
       "      <td>0.425189</td>\n",
       "      <td>0.422681</td>\n",
       "    </tr>\n",
       "    <tr>\n",
       "      <th>2021-07-10 08:00:00</th>\n",
       "      <td>0.424710</td>\n",
       "      <td>0.422552</td>\n",
       "    </tr>\n",
       "    <tr>\n",
       "      <th>...</th>\n",
       "      <td>...</td>\n",
       "      <td>...</td>\n",
       "    </tr>\n",
       "    <tr>\n",
       "      <th>2021-11-26 00:00:00</th>\n",
       "      <td>0.932771</td>\n",
       "      <td>0.932241</td>\n",
       "    </tr>\n",
       "    <tr>\n",
       "      <th>2021-11-26 01:00:00</th>\n",
       "      <td>0.931065</td>\n",
       "      <td>0.936925</td>\n",
       "    </tr>\n",
       "    <tr>\n",
       "      <th>2021-11-26 02:00:00</th>\n",
       "      <td>0.927502</td>\n",
       "      <td>0.936471</td>\n",
       "    </tr>\n",
       "    <tr>\n",
       "      <th>2021-11-26 03:00:00</th>\n",
       "      <td>0.924446</td>\n",
       "      <td>0.933321</td>\n",
       "    </tr>\n",
       "    <tr>\n",
       "      <th>2021-11-26 04:00:00</th>\n",
       "      <td>0.916745</td>\n",
       "      <td>0.929952</td>\n",
       "    </tr>\n",
       "  </tbody>\n",
       "</table>\n",
       "<p>3337 rows × 2 columns</p>\n",
       "</div>\n",
       "      <button class=\"colab-df-convert\" onclick=\"convertToInteractive('df-9388a804-2701-4242-a405-12427817d6de')\"\n",
       "              title=\"Convert this dataframe to an interactive table.\"\n",
       "              style=\"display:none;\">\n",
       "        \n",
       "  <svg xmlns=\"http://www.w3.org/2000/svg\" height=\"24px\"viewBox=\"0 0 24 24\"\n",
       "       width=\"24px\">\n",
       "    <path d=\"M0 0h24v24H0V0z\" fill=\"none\"/>\n",
       "    <path d=\"M18.56 5.44l.94 2.06.94-2.06 2.06-.94-2.06-.94-.94-2.06-.94 2.06-2.06.94zm-11 1L8.5 8.5l.94-2.06 2.06-.94-2.06-.94L8.5 2.5l-.94 2.06-2.06.94zm10 10l.94 2.06.94-2.06 2.06-.94-2.06-.94-.94-2.06-.94 2.06-2.06.94z\"/><path d=\"M17.41 7.96l-1.37-1.37c-.4-.4-.92-.59-1.43-.59-.52 0-1.04.2-1.43.59L10.3 9.45l-7.72 7.72c-.78.78-.78 2.05 0 2.83L4 21.41c.39.39.9.59 1.41.59.51 0 1.02-.2 1.41-.59l7.78-7.78 2.81-2.81c.8-.78.8-2.07 0-2.86zM5.41 20L4 18.59l7.72-7.72 1.47 1.35L5.41 20z\"/>\n",
       "  </svg>\n",
       "      </button>\n",
       "      \n",
       "  <style>\n",
       "    .colab-df-container {\n",
       "      display:flex;\n",
       "      flex-wrap:wrap;\n",
       "      gap: 12px;\n",
       "    }\n",
       "\n",
       "    .colab-df-convert {\n",
       "      background-color: #E8F0FE;\n",
       "      border: none;\n",
       "      border-radius: 50%;\n",
       "      cursor: pointer;\n",
       "      display: none;\n",
       "      fill: #1967D2;\n",
       "      height: 32px;\n",
       "      padding: 0 0 0 0;\n",
       "      width: 32px;\n",
       "    }\n",
       "\n",
       "    .colab-df-convert:hover {\n",
       "      background-color: #E2EBFA;\n",
       "      box-shadow: 0px 1px 2px rgba(60, 64, 67, 0.3), 0px 1px 3px 1px rgba(60, 64, 67, 0.15);\n",
       "      fill: #174EA6;\n",
       "    }\n",
       "\n",
       "    [theme=dark] .colab-df-convert {\n",
       "      background-color: #3B4455;\n",
       "      fill: #D2E3FC;\n",
       "    }\n",
       "\n",
       "    [theme=dark] .colab-df-convert:hover {\n",
       "      background-color: #434B5C;\n",
       "      box-shadow: 0px 1px 3px 1px rgba(0, 0, 0, 0.15);\n",
       "      filter: drop-shadow(0px 1px 2px rgba(0, 0, 0, 0.3));\n",
       "      fill: #FFFFFF;\n",
       "    }\n",
       "  </style>\n",
       "\n",
       "      <script>\n",
       "        const buttonEl =\n",
       "          document.querySelector('#df-9388a804-2701-4242-a405-12427817d6de button.colab-df-convert');\n",
       "        buttonEl.style.display =\n",
       "          google.colab.kernel.accessAllowed ? 'block' : 'none';\n",
       "\n",
       "        async function convertToInteractive(key) {\n",
       "          const element = document.querySelector('#df-9388a804-2701-4242-a405-12427817d6de');\n",
       "          const dataTable =\n",
       "            await google.colab.kernel.invokeFunction('convertToInteractive',\n",
       "                                                     [key], {});\n",
       "          if (!dataTable) return;\n",
       "\n",
       "          const docLinkHtml = 'Like what you see? Visit the ' +\n",
       "            '<a target=\"_blank\" href=https://colab.research.google.com/notebooks/data_table.ipynb>data table notebook</a>'\n",
       "            + ' to learn more about interactive tables.';\n",
       "          element.innerHTML = '';\n",
       "          dataTable['output_type'] = 'display_data';\n",
       "          await google.colab.output.renderOutput(dataTable, element);\n",
       "          const docLink = document.createElement('div');\n",
       "          docLink.innerHTML = docLinkHtml;\n",
       "          element.appendChild(docLink);\n",
       "        }\n",
       "      </script>\n",
       "    </div>\n",
       "  </div>\n",
       "  "
      ],
      "text/plain": [
       "                        Close  Predictions\n",
       "timestamp                                 \n",
       "2021-07-10 04:00:00  0.428624     0.429236\n",
       "2021-07-10 05:00:00  0.427061     0.427319\n",
       "2021-07-10 06:00:00  0.423958     0.425470\n",
       "2021-07-10 07:00:00  0.425189     0.422681\n",
       "2021-07-10 08:00:00  0.424710     0.422552\n",
       "...                       ...          ...\n",
       "2021-11-26 00:00:00  0.932771     0.932241\n",
       "2021-11-26 01:00:00  0.931065     0.936925\n",
       "2021-11-26 02:00:00  0.927502     0.936471\n",
       "2021-11-26 03:00:00  0.924446     0.933321\n",
       "2021-11-26 04:00:00  0.916745     0.929952\n",
       "\n",
       "[3337 rows x 2 columns]"
      ]
     },
     "execution_count": 87,
     "metadata": {},
     "output_type": "execute_result"
    }
   ],
   "source": [
    "valid = pd.DataFrame(new_df_h[train_len:])\n",
    "valid['Predictions']=lstm_valid_pred\n",
    "valid"
   ]
  },
  {
   "cell_type": "code",
   "execution_count": 88,
   "metadata": {
    "colab": {
     "base_uri": "https://localhost:8080/",
     "height": 265
    },
    "id": "3jHWwabptyiw",
    "outputId": "ec388cdb-9db0-40cd-9562-29f8d0d13748"
   },
   "outputs": [
    {
     "data": {
      "image/png": "[encoded data removed]",
      "text/plain": [
       "<Figure size 432x288 with 1 Axes>"
      ]
     },
     "metadata": {
      "needs_background": "light"
     },
     "output_type": "display_data"
    }
   ],
   "source": [
    "plt.plot(valid[['Close','Predictions']])\n",
    "plt.legend(['Validation','Predictions'])\n",
    "plt.show()"
   ]
  },
  {
   "cell_type": "markdown",
   "metadata": {
    "id": "gB3E5owHuT83"
   },
   "source": [
    "we can see a simple plot showing both curves, in which the prediction seems meaningful"
   ]
  },
  {
   "cell_type": "markdown",
   "metadata": {
    "id": "YUnI3wliO29t"
   },
   "source": [
    "## Train and Validation Plot"
   ]
  },
  {
   "cell_type": "code",
   "execution_count": 89,
   "metadata": {
    "colab": {
     "base_uri": "https://localhost:8080/",
     "height": 513
    },
    "id": "12UwGeoAtyrm",
    "outputId": "70f29439-3e54-4bad-a47a-79c3f006d4be"
   },
   "outputs": [
    {
     "data": {
      "image/png": "[encoded data removed]",
      "text/plain": [
       "<Figure size 1152x576 with 1 Axes>"
      ]
     },
     "metadata": {
      "needs_background": "light"
     },
     "output_type": "display_data"
    }
   ],
   "source": [
    "train = new_df_h[:train_len]\n",
    "valid = pd.DataFrame(new_df_h[train_len:])\n",
    "valid['Predictions']=lstm_valid_pred\n",
    "\n",
    "plt.figure(figsize=(16,8))\n",
    "plt.title('Model LSTM')\n",
    "plt.xlabel('Date')\n",
    "plt.ylabel('Close Price USD')\n",
    "plt.plot(train)\n",
    "plt.plot(valid[['Close','Predictions']])\n",
    "plt.legend(['Train','Val','Predictions'])\n",
    "plt.show()"
   ]
  },
  {
   "cell_type": "markdown",
   "metadata": {
    "id": "Xzzw5K3kU-A2"
   },
   "source": [
    "## Predict Future Values (unseen Test Values)"
   ]
  },
  {
   "cell_type": "code",
   "execution_count": 132,
   "metadata": {
    "id": "2kiWEB-MOoBQ"
   },
   "outputs": [],
   "source": [
    "X_test, Y_test = create_ds(DF_hourly['Close'].iloc[-200:])"
   ]
  },
  {
   "cell_type": "code",
   "execution_count": 133,
   "metadata": {
    "id": "HkZBmTbnPLbD"
   },
   "outputs": [],
   "source": [
    "lstm_valid_test = model.predict(X_test)\n",
    "test = pd.DataFrame(DF_hourly['Close'].iloc[-190:])\n",
    "test['Predictions']=lstm_valid_test"
   ]
  },
  {
   "cell_type": "code",
   "execution_count": 134,
   "metadata": {
    "colab": {
     "base_uri": "https://localhost:8080/",
     "height": 513
    },
    "id": "G8vT91DKR9W9",
    "outputId": "54d6910c-2ae2-46e7-c9e4-c3018f2e14c3"
   },
   "outputs": [
    {
     "data": {
      "image/png": "[encoded data removed]",
      "text/plain": [
       "<Figure size 1152x576 with 1 Axes>"
      ]
     },
     "metadata": {
      "needs_background": "light"
     },
     "output_type": "display_data"
    }
   ],
   "source": [
    "plt.figure(figsize=(16,8))\n",
    "plt.title('Model LSTM')\n",
    "plt.xlabel('Date')\n",
    "plt.ylabel('Close Price USD')\n",
    "plt.plot(valid[['Close']])\n",
    "plt.plot(test)\n",
    "plt.legend(['Val','Test'])\n",
    "plt.show()"
   ]
  }
 ],
 "metadata": {
  "colab": {
   "collapsed_sections": [],
   "name": "TimeSeriesNotebook.ipynb",
   "provenance": []
  },
  "kernelspec": {
   "display_name": "Python 3",
   "language": "python",
   "name": "python3"
  },
  "language_info": {
   "codemirror_mode": {
    "name": "ipython",
    "version": 3
   },
   "file_extension": ".py",
   "mimetype": "text/x-python",
   "name": "python",
   "nbconvert_exporter": "python",
   "pygments_lexer": "ipython3",
   "version": "3.8.5"
  }
 },
 "nbformat": 4,
 "nbformat_minor": 1
}
